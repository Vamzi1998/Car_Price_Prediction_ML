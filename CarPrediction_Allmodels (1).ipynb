{
  "cells": [
    {
      "cell_type": "code",
      "execution_count": null,
      "id": "361604a6",
      "metadata": {
        "id": "361604a6"
      },
      "outputs": [],
      "source": [
        "import pandas as pd\n",
        "import matplotlib as mp\n",
        "import matplotlib\n",
        "from matplotlib import pyplot as plt\n",
        "import numpy as np\n",
        "import seaborn as sb"
      ]
    },
    {
      "cell_type": "code",
      "execution_count": null,
      "id": "f0053a07",
      "metadata": {
        "colab": {
          "base_uri": "https://localhost:8080/"
        },
        "id": "f0053a07",
        "outputId": "9b0f9318-590f-49ec-a80b-576cea06c2a1"
      },
      "outputs": [
        {
          "output_type": "stream",
          "name": "stdout",
          "text": [
            "Looking in indexes: https://pypi.org/simple, https://us-python.pkg.dev/colab-wheels/public/simple/\n",
            "Collecting fast_ml\n",
            "  Downloading fast_ml-3.68-py3-none-any.whl (42 kB)\n",
            "\u001b[K     |████████████████████████████████| 42 kB 615 kB/s \n",
            "\u001b[?25hInstalling collected packages: fast-ml\n",
            "Successfully installed fast-ml-3.68\n"
          ]
        }
      ],
      "source": [
        "pip install fast_ml"
      ]
    },
    {
      "cell_type": "code",
      "execution_count": null,
      "id": "eef8c2c2",
      "metadata": {
        "id": "eef8c2c2"
      },
      "outputs": [],
      "source": [
        "cardf=pd.read_csv('cardf_new.csv')"
      ]
    },
    {
      "cell_type": "code",
      "execution_count": null,
      "id": "d40de6d6",
      "metadata": {
        "colab": {
          "base_uri": "https://localhost:8080/",
          "height": 206
        },
        "id": "d40de6d6",
        "outputId": "ced24000-269f-4056-a4a6-8c58a809c185"
      },
      "outputs": [
        {
          "output_type": "execute_result",
          "data": {
            "text/plain": [
              "   Selling_price  Present_new  Kms_driven  total_years  Fuel_type_Diesel  \\\n",
              "0         120000       126000       50000           17                 1   \n",
              "1          50000        52500      120000           20                 1   \n",
              "2         430000       451500       50000           10                 0   \n",
              "3        1200000      1260000       60000           10                 0   \n",
              "4        1295000      1359750       58000           11                 1   \n",
              "\n",
              "   Fuel_type_LPG  Fuel_type_Petrol  Transmission_Manual  \n",
              "0              0                 0                    1  \n",
              "1              0                 0                    1  \n",
              "2              0                 1                    1  \n",
              "3              0                 1                    0  \n",
              "4              0                 0                    0  "
            ],
            "text/html": [
              "\n",
              "  <div id=\"df-60aff2d6-f49a-4c2d-abef-925bb7c3da21\">\n",
              "    <div class=\"colab-df-container\">\n",
              "      <div>\n",
              "<style scoped>\n",
              "    .dataframe tbody tr th:only-of-type {\n",
              "        vertical-align: middle;\n",
              "    }\n",
              "\n",
              "    .dataframe tbody tr th {\n",
              "        vertical-align: top;\n",
              "    }\n",
              "\n",
              "    .dataframe thead th {\n",
              "        text-align: right;\n",
              "    }\n",
              "</style>\n",
              "<table border=\"1\" class=\"dataframe\">\n",
              "  <thead>\n",
              "    <tr style=\"text-align: right;\">\n",
              "      <th></th>\n",
              "      <th>Selling_price</th>\n",
              "      <th>Present_new</th>\n",
              "      <th>Kms_driven</th>\n",
              "      <th>total_years</th>\n",
              "      <th>Fuel_type_Diesel</th>\n",
              "      <th>Fuel_type_LPG</th>\n",
              "      <th>Fuel_type_Petrol</th>\n",
              "      <th>Transmission_Manual</th>\n",
              "    </tr>\n",
              "  </thead>\n",
              "  <tbody>\n",
              "    <tr>\n",
              "      <th>0</th>\n",
              "      <td>120000</td>\n",
              "      <td>126000</td>\n",
              "      <td>50000</td>\n",
              "      <td>17</td>\n",
              "      <td>1</td>\n",
              "      <td>0</td>\n",
              "      <td>0</td>\n",
              "      <td>1</td>\n",
              "    </tr>\n",
              "    <tr>\n",
              "      <th>1</th>\n",
              "      <td>50000</td>\n",
              "      <td>52500</td>\n",
              "      <td>120000</td>\n",
              "      <td>20</td>\n",
              "      <td>1</td>\n",
              "      <td>0</td>\n",
              "      <td>0</td>\n",
              "      <td>1</td>\n",
              "    </tr>\n",
              "    <tr>\n",
              "      <th>2</th>\n",
              "      <td>430000</td>\n",
              "      <td>451500</td>\n",
              "      <td>50000</td>\n",
              "      <td>10</td>\n",
              "      <td>0</td>\n",
              "      <td>0</td>\n",
              "      <td>1</td>\n",
              "      <td>1</td>\n",
              "    </tr>\n",
              "    <tr>\n",
              "      <th>3</th>\n",
              "      <td>1200000</td>\n",
              "      <td>1260000</td>\n",
              "      <td>60000</td>\n",
              "      <td>10</td>\n",
              "      <td>0</td>\n",
              "      <td>0</td>\n",
              "      <td>1</td>\n",
              "      <td>0</td>\n",
              "    </tr>\n",
              "    <tr>\n",
              "      <th>4</th>\n",
              "      <td>1295000</td>\n",
              "      <td>1359750</td>\n",
              "      <td>58000</td>\n",
              "      <td>11</td>\n",
              "      <td>1</td>\n",
              "      <td>0</td>\n",
              "      <td>0</td>\n",
              "      <td>0</td>\n",
              "    </tr>\n",
              "  </tbody>\n",
              "</table>\n",
              "</div>\n",
              "      <button class=\"colab-df-convert\" onclick=\"convertToInteractive('df-60aff2d6-f49a-4c2d-abef-925bb7c3da21')\"\n",
              "              title=\"Convert this dataframe to an interactive table.\"\n",
              "              style=\"display:none;\">\n",
              "        \n",
              "  <svg xmlns=\"http://www.w3.org/2000/svg\" height=\"24px\"viewBox=\"0 0 24 24\"\n",
              "       width=\"24px\">\n",
              "    <path d=\"M0 0h24v24H0V0z\" fill=\"none\"/>\n",
              "    <path d=\"M18.56 5.44l.94 2.06.94-2.06 2.06-.94-2.06-.94-.94-2.06-.94 2.06-2.06.94zm-11 1L8.5 8.5l.94-2.06 2.06-.94-2.06-.94L8.5 2.5l-.94 2.06-2.06.94zm10 10l.94 2.06.94-2.06 2.06-.94-2.06-.94-.94-2.06-.94 2.06-2.06.94z\"/><path d=\"M17.41 7.96l-1.37-1.37c-.4-.4-.92-.59-1.43-.59-.52 0-1.04.2-1.43.59L10.3 9.45l-7.72 7.72c-.78.78-.78 2.05 0 2.83L4 21.41c.39.39.9.59 1.41.59.51 0 1.02-.2 1.41-.59l7.78-7.78 2.81-2.81c.8-.78.8-2.07 0-2.86zM5.41 20L4 18.59l7.72-7.72 1.47 1.35L5.41 20z\"/>\n",
              "  </svg>\n",
              "      </button>\n",
              "      \n",
              "  <style>\n",
              "    .colab-df-container {\n",
              "      display:flex;\n",
              "      flex-wrap:wrap;\n",
              "      gap: 12px;\n",
              "    }\n",
              "\n",
              "    .colab-df-convert {\n",
              "      background-color: #E8F0FE;\n",
              "      border: none;\n",
              "      border-radius: 50%;\n",
              "      cursor: pointer;\n",
              "      display: none;\n",
              "      fill: #1967D2;\n",
              "      height: 32px;\n",
              "      padding: 0 0 0 0;\n",
              "      width: 32px;\n",
              "    }\n",
              "\n",
              "    .colab-df-convert:hover {\n",
              "      background-color: #E2EBFA;\n",
              "      box-shadow: 0px 1px 2px rgba(60, 64, 67, 0.3), 0px 1px 3px 1px rgba(60, 64, 67, 0.15);\n",
              "      fill: #174EA6;\n",
              "    }\n",
              "\n",
              "    [theme=dark] .colab-df-convert {\n",
              "      background-color: #3B4455;\n",
              "      fill: #D2E3FC;\n",
              "    }\n",
              "\n",
              "    [theme=dark] .colab-df-convert:hover {\n",
              "      background-color: #434B5C;\n",
              "      box-shadow: 0px 1px 3px 1px rgba(0, 0, 0, 0.15);\n",
              "      filter: drop-shadow(0px 1px 2px rgba(0, 0, 0, 0.3));\n",
              "      fill: #FFFFFF;\n",
              "    }\n",
              "  </style>\n",
              "\n",
              "      <script>\n",
              "        const buttonEl =\n",
              "          document.querySelector('#df-60aff2d6-f49a-4c2d-abef-925bb7c3da21 button.colab-df-convert');\n",
              "        buttonEl.style.display =\n",
              "          google.colab.kernel.accessAllowed ? 'block' : 'none';\n",
              "\n",
              "        async function convertToInteractive(key) {\n",
              "          const element = document.querySelector('#df-60aff2d6-f49a-4c2d-abef-925bb7c3da21');\n",
              "          const dataTable =\n",
              "            await google.colab.kernel.invokeFunction('convertToInteractive',\n",
              "                                                     [key], {});\n",
              "          if (!dataTable) return;\n",
              "\n",
              "          const docLinkHtml = 'Like what you see? Visit the ' +\n",
              "            '<a target=\"_blank\" href=https://colab.research.google.com/notebooks/data_table.ipynb>data table notebook</a>'\n",
              "            + ' to learn more about interactive tables.';\n",
              "          element.innerHTML = '';\n",
              "          dataTable['output_type'] = 'display_data';\n",
              "          await google.colab.output.renderOutput(dataTable, element);\n",
              "          const docLink = document.createElement('div');\n",
              "          docLink.innerHTML = docLinkHtml;\n",
              "          element.appendChild(docLink);\n",
              "        }\n",
              "      </script>\n",
              "    </div>\n",
              "  </div>\n",
              "  "
            ]
          },
          "metadata": {},
          "execution_count": 4
        }
      ],
      "source": [
        "#remove name, owner and seller type\n",
        "#add no of years\n",
        "#convert transmission to numbers\n",
        "#convert fuel type to numbers\n",
        "cardf.head()\n"
      ]
    },
    {
      "cell_type": "code",
      "execution_count": null,
      "id": "e81c0cd6",
      "metadata": {
        "id": "e81c0cd6",
        "outputId": "b336f8aa-b4ad-491a-d96a-9c54cb347834"
      },
      "outputs": [
        {
          "data": {
            "image/png": "[encoded data removed]",
            "text/plain": [
              "<Figure size 432x288 with 2 Axes>"
            ]
          },
          "metadata": {
            "needs_background": "light"
          },
          "output_type": "display_data"
        }
      ],
      "source": [
        "dataplot = sb.heatmap(cardf.corr(), cmap=\"YlGnBu\", annot=True)"
      ]
    },
    {
      "cell_type": "code",
      "execution_count": null,
      "id": "680923b9",
      "metadata": {
        "id": "680923b9"
      },
      "outputs": [],
      "source": [
        "X=cardf.iloc[:,1:]\n",
        "Y=cardf.iloc[:,0]"
      ]
    },
    {
      "cell_type": "raw",
      "id": "d54ef382",
      "metadata": {
        "id": "d54ef382"
      },
      "source": [
        "X.head()"
      ]
    },
    {
      "cell_type": "code",
      "execution_count": null,
      "id": "3397ef78",
      "metadata": {
        "scrolled": true,
        "colab": {
          "base_uri": "https://localhost:8080/"
        },
        "id": "3397ef78",
        "outputId": "638632be-130a-4fd5-b759-528ec9c96800"
      },
      "outputs": [
        {
          "output_type": "execute_result",
          "data": {
            "text/plain": [
              "0     120000\n",
              "1      50000\n",
              "2     430000\n",
              "3    1200000\n",
              "4    1295000\n",
              "Name: Selling_price, dtype: int64"
            ]
          },
          "metadata": {},
          "execution_count": 6
        }
      ],
      "source": [
        "Y.head()"
      ]
    },
    {
      "cell_type": "code",
      "execution_count": null,
      "id": "52af6e2e",
      "metadata": {
        "id": "52af6e2e",
        "outputId": "9b052edf-e54c-4ac2-9e6f-477d0e6e22c2"
      },
      "outputs": [
        {
          "data": {
            "text/plain": [
              "True"
            ]
          },
          "execution_count": 18,
          "metadata": {},
          "output_type": "execute_result"
        }
      ],
      "source": [
        "np.all(np.isfinite(cardf))"
      ]
    },
    {
      "cell_type": "code",
      "execution_count": null,
      "id": "324f892b",
      "metadata": {
        "id": "324f892b",
        "outputId": "fc7dbac1-bc07-4cc2-f69f-5b83a63e42e9"
      },
      "outputs": [
        {
          "data": {
            "text/plain": [
              "False"
            ]
          },
          "execution_count": 19,
          "metadata": {},
          "output_type": "execute_result"
        }
      ],
      "source": [
        "np.any(np.isnan(cardf))"
      ]
    },
    {
      "cell_type": "code",
      "execution_count": null,
      "id": "12584cea",
      "metadata": {
        "id": "12584cea"
      },
      "outputs": [],
      "source": [
        "cardf.dropna(inplace=True)"
      ]
    },
    {
      "cell_type": "code",
      "execution_count": null,
      "id": "656bf5e3",
      "metadata": {
        "id": "656bf5e3",
        "outputId": "b332c432-f8a5-406c-a149-4cdae29d7e78"
      },
      "outputs": [
        {
          "name": "stdout",
          "output_type": "stream",
          "text": [
            "False\n"
          ]
        }
      ],
      "source": [
        "check_nan = cardf.isnull().values.any()\n",
        "print(check_nan)"
      ]
    },
    {
      "cell_type": "code",
      "execution_count": null,
      "id": "49badad0",
      "metadata": {
        "id": "49badad0",
        "outputId": "46d89328-7607-4bdb-90d2-878e23b8a69d"
      },
      "outputs": [
        {
          "data": {
            "text/plain": [
              "False"
            ]
          },
          "execution_count": 22,
          "metadata": {},
          "output_type": "execute_result"
        }
      ],
      "source": [
        "np.isnan(cardf.values.any())"
      ]
    },
    {
      "cell_type": "code",
      "execution_count": null,
      "id": "95f98fb8",
      "metadata": {
        "id": "95f98fb8"
      },
      "outputs": [],
      "source": [
        "cardf.replace([np.inf, -np.inf], np.nan, inplace=True)"
      ]
    },
    {
      "cell_type": "code",
      "execution_count": null,
      "id": "0b1afe91",
      "metadata": {
        "id": "0b1afe91",
        "outputId": "acc5a8d8-b7cc-46b8-987f-a0414275c2e7"
      },
      "outputs": [
        {
          "data": {
            "text/plain": [
              "ExtraTreesRegressor()"
            ]
          },
          "execution_count": 37,
          "metadata": {},
          "output_type": "execute_result"
        }
      ],
      "source": [
        "#Feature importance\n",
        "from sklearn.ensemble import ExtraTreesRegressor\n",
        "model=ExtraTreesRegressor()\n",
        "model.fit(X,Y)"
      ]
    },
    {
      "cell_type": "code",
      "execution_count": null,
      "id": "2c90827a",
      "metadata": {
        "colab": {
          "base_uri": "https://localhost:8080/"
        },
        "id": "2c90827a",
        "outputId": "3771d829-3616-4c00-e80f-c3dbe25d04c8"
      },
      "outputs": [
        {
          "output_type": "stream",
          "name": "stdout",
          "text": [
            "(9319, 7)\n",
            "(9319,)\n",
            "(1165, 7)\n",
            "(1165,)\n",
            "(1165, 7)\n",
            "(1165,)\n"
          ]
        },
        {
          "output_type": "execute_result",
          "data": {
            "text/plain": [
              "(None, None)"
            ]
          },
          "metadata": {},
          "execution_count": 7
        }
      ],
      "source": [
        "from fast_ml.model_development import train_valid_test_split\n",
        "\n",
        "X_train, Y_train, X_valid, Y_valid, X_test, Y_test = train_valid_test_split(cardf, target = 'Selling_price', \n",
        "                                                                            train_size=0.8, valid_size=0.1, test_size=0.1)\n",
        "\n",
        "print(X_train.shape), print(Y_train.shape)\n",
        "print(X_valid.shape), print(Y_valid.shape)\n",
        "print(X_test.shape), print(Y_test.shape)"
      ]
    },
    {
      "cell_type": "code",
      "execution_count": null,
      "id": "5d4a47d3",
      "metadata": {
        "colab": {
          "base_uri": "https://localhost:8080/"
        },
        "id": "5d4a47d3",
        "outputId": "03844a43-1918-4932-d20b-1a044bde6fa9"
      },
      "outputs": [
        {
          "output_type": "execute_result",
          "data": {
            "text/plain": [
              "DecisionTreeRegressor(random_state=42)"
            ]
          },
          "metadata": {},
          "execution_count": 8
        }
      ],
      "source": [
        "#DECISION TREE\n",
        "from sklearn.tree import DecisionTreeRegressor\n",
        "tree_reg=DecisionTreeRegressor(random_state=42) # random state\n",
        "tree_reg.fit(X_train,Y_train)\n"
      ]
    },
    {
      "cell_type": "code",
      "execution_count": 17,
      "id": "aaa92cd7",
      "metadata": {
        "colab": {
          "base_uri": "https://localhost:8080/"
        },
        "id": "aaa92cd7",
        "outputId": "b8a39231-9a3d-4896-f9a7-6f306a6dd227"
      },
      "outputs": [
        {
          "output_type": "execute_result",
          "data": {
            "text/plain": [
              "0.9536272635332643"
            ]
          },
          "metadata": {},
          "execution_count": 17
        }
      ],
      "source": [
        "y_pred_dtr = tree_reg.predict(X_test)\n",
        "\n",
        "from sklearn.metrics import r2_score\n",
        "r2_score(Y_test, y_pred_dtr)"
      ]
    },
    {
      "cell_type": "code",
      "execution_count": null,
      "id": "90e2ea5e",
      "metadata": {
        "colab": {
          "base_uri": "https://localhost:8080/"
        },
        "id": "90e2ea5e",
        "outputId": "81cd9e03-6cb2-4c65-afdd-9cecd643dc5f"
      },
      "outputs": [
        {
          "output_type": "stream",
          "name": "stdout",
          "text": [
            "Parameters currently in use:\n",
            "\n",
            "{'bootstrap': True,\n",
            " 'ccp_alpha': 0.0,\n",
            " 'criterion': 'squared_error',\n",
            " 'max_depth': None,\n",
            " 'max_features': 'auto',\n",
            " 'max_leaf_nodes': None,\n",
            " 'max_samples': None,\n",
            " 'min_impurity_decrease': 0.0,\n",
            " 'min_samples_leaf': 1,\n",
            " 'min_samples_split': 2,\n",
            " 'min_weight_fraction_leaf': 0.0,\n",
            " 'n_estimators': 100,\n",
            " 'n_jobs': None,\n",
            " 'oob_score': False,\n",
            " 'random_state': 42,\n",
            " 'verbose': 0,\n",
            " 'warm_start': False}\n"
          ]
        }
      ],
      "source": [
        "#RANDOM FOREST\n",
        "from sklearn.ensemble import RandomForestRegressor\n",
        "rf = RandomForestRegressor(random_state = 42)\n",
        "from pprint import pprint\n",
        "# Look at parameters used by our current forest\n",
        "print('Parameters currently in use:\\n')\n",
        "pprint(rf.get_params())"
      ]
    },
    {
      "cell_type": "code",
      "source": [
        "rf.fit(X_train, Y_train)\n"
      ],
      "metadata": {
        "colab": {
          "base_uri": "https://localhost:8080/"
        },
        "id": "frOBwK5FxTQU",
        "outputId": "8799def0-00dd-40ef-a5ec-3d9e538dce66"
      },
      "id": "frOBwK5FxTQU",
      "execution_count": 14,
      "outputs": [
        {
          "output_type": "execute_result",
          "data": {
            "text/plain": [
              "RandomForestRegressor(random_state=42)"
            ]
          },
          "metadata": {},
          "execution_count": 14
        }
      ]
    },
    {
      "cell_type": "code",
      "source": [
        "\n",
        "def evaluate(model, test_features, test_labels):\n",
        "    predictions = model.predict(test_features)\n",
        "    errors = abs(predictions - test_labels)\n",
        "    mape = 100 * np.mean(errors / test_labels)\n",
        "    accuracy = 100 - mape\n",
        "    print('Model Performance')\n",
        "    print('Average Error: {:0.4f} degrees.'.format(np.mean(errors)))\n",
        "    print('Accuracy = {:0.2f}%.'.format(accuracy))\n",
        "base_accuracy = evaluate(rf, X_valid, Y_valid)\n",
        "    "
      ],
      "metadata": {
        "colab": {
          "base_uri": "https://localhost:8080/"
        },
        "id": "5Q17u4YWxdGa",
        "outputId": "66dccfc7-8822-4008-e427-9439e91d6288"
      },
      "id": "5Q17u4YWxdGa",
      "execution_count": null,
      "outputs": [
        {
          "output_type": "stream",
          "name": "stdout",
          "text": [
            "Model Performance\n",
            "Average Error: 617.4720 degrees.\n",
            "Accuracy = 99.93%.\n"
          ]
        }
      ]
    },
    {
      "cell_type": "code",
      "execution_count": null,
      "id": "220af2e5",
      "metadata": {
        "id": "220af2e5",
        "outputId": "7ef9dd12-a82b-4e64-824c-e9cceaf1acad"
      },
      "outputs": [
        {
          "name": "stdout",
          "output_type": "stream",
          "text": [
            "{'bootstrap': [True, False],\n",
            " 'max_depth': [10, 20, 30, 40, 50, 60, 70, 80, 90, 100, 110, None],\n",
            " 'max_features': ['auto', 'sqrt'],\n",
            " 'min_samples_leaf': [1, 2, 4],\n",
            " 'min_samples_split': [2, 5, 10],\n",
            " 'n_estimators': [200, 400, 600, 800, 1000, 1200, 1400, 1600, 1800, 2000]}\n"
          ]
        }
      ],
      "source": [
        "#RANDOMIZED SEARCH FOR HYPERPARAMETER TUNING\n",
        "from sklearn.model_selection import RandomizedSearchCV\n",
        "# Number of trees in random forest\n",
        "n_estimators = [int(x) for x in np.linspace(start = 200, stop = 2000, num = 10)]\n",
        "# Number of features to consider at every split\n",
        "max_features = ['auto', 'sqrt']\n",
        "# Maximum number of levels in tree\n",
        "max_depth = [int(x) for x in np.linspace(10, 110, num = 11)]\n",
        "max_depth.append(None)\n",
        "# Minimum number of samples required to split a node\n",
        "min_samples_split = [2, 5, 10]\n",
        "# Minimum number of samples required at each leaf node\n",
        "min_samples_leaf = [1, 2, 4]\n",
        "# Method of selecting samples for training each tree\n",
        "bootstrap = [True, False]\n",
        "# Create the random grid\n",
        "random_grid = {'n_estimators': n_estimators,\n",
        "               'max_features': max_features,\n",
        "               'max_depth': max_depth,\n",
        "               'min_samples_split': min_samples_split,\n",
        "               'min_samples_leaf': min_samples_leaf,\n",
        "               'bootstrap': bootstrap}\n",
        "pprint(random_grid)"
      ]
    },
    {
      "cell_type": "code",
      "execution_count": null,
      "id": "5b763007",
      "metadata": {
        "id": "5b763007",
        "outputId": "a72f06e0-4f98-4b41-c6c3-7eef5df53534"
      },
      "outputs": [
        {
          "name": "stdout",
          "output_type": "stream",
          "text": [
            "Fitting 3 folds for each of 100 candidates, totalling 300 fits\n"
          ]
        },
        {
          "data": {
            "text/plain": [
              "RandomizedSearchCV(cv=3, estimator=RandomForestRegressor(), n_iter=100,\n",
              "                   n_jobs=-1,\n",
              "                   param_distributions={'bootstrap': [True, False],\n",
              "                                        'max_depth': [10, 20, 30, 40, 50, 60,\n",
              "                                                      70, 80, 90, 100, 110,\n",
              "                                                      None],\n",
              "                                        'max_features': ['auto', 'sqrt'],\n",
              "                                        'min_samples_leaf': [1, 2, 4],\n",
              "                                        'min_samples_split': [2, 5, 10],\n",
              "                                        'n_estimators': [200, 400, 600, 800,\n",
              "                                                         1000, 1200, 1400, 1600,\n",
              "                                                         1800, 2000]},\n",
              "                   random_state=42, verbose=2)"
            ]
          },
          "execution_count": 13,
          "metadata": {},
          "output_type": "execute_result"
        }
      ],
      "source": [
        "# Use the random grid to search for best hyperparameters\n",
        "# First create the base model to tune\n",
        "rf = RandomForestRegressor()\n",
        "# Random search of parameters, using 3 fold cross validation, \n",
        "# search across 100 different combinations, and use all available cores\n",
        "rf_random = RandomizedSearchCV(estimator = rf, param_distributions = random_grid, n_iter = 100, cv = 3, verbose=2, random_state=42, n_jobs = -1)\n",
        "# Fit the random search model\n",
        "rf_random.fit(X_train, Y_train)"
      ]
    },
    {
      "cell_type": "code",
      "execution_count": null,
      "id": "19883301",
      "metadata": {
        "id": "19883301",
        "outputId": "a12e857a-7267-428d-da0e-d092a1b7e71b"
      },
      "outputs": [
        {
          "name": "stdout",
          "output_type": "stream",
          "text": [
            "{'n_estimators': 1800, 'min_samples_split': 2, 'min_samples_leaf': 2, 'max_features': 'auto', 'max_depth': 80, 'bootstrap': True}\n"
          ]
        }
      ],
      "source": [
        "print(rf_random.best_params_)"
      ]
    },
    {
      "cell_type": "code",
      "execution_count": null,
      "id": "61bc10f0",
      "metadata": {
        "id": "61bc10f0",
        "outputId": "1dd24614-ab9d-4114-a5ad-864b60d91c7a"
      },
      "outputs": [
        {
          "name": "stdout",
          "output_type": "stream",
          "text": [
            "Model Performance\n",
            "Average Error: 2449.5353 degrees.\n",
            "Accuracy = 98.99%.\n",
            "Model Performance\n",
            "Average Error: 2565.6082 degrees.\n",
            "Accuracy = 98.97%.\n",
            "Improvement of -0.02%.\n"
          ]
        }
      ],
      "source": [
        "# comparing the normal Random forest model (base_model) with the tuned random forest\n",
        "\n",
        "def evaluate(model, test_features, test_labels):\n",
        "    predictions = model.predict(test_features)\n",
        "    errors = abs(predictions - test_labels)\n",
        "    mape = 100 * np.mean(errors / test_labels)\n",
        "    accuracy = 100 - mape\n",
        "    print('Model Performance')\n",
        "    print('Average Error: {:0.4f} degrees.'.format(np.mean(errors)))\n",
        "    print('Accuracy = {:0.2f}%.'.format(accuracy))\n",
        "    \n",
        "    return accuracy\n",
        "base_model = RandomForestRegressor(n_estimators = 10, random_state = 42)\n",
        "base_model.fit(X_train, Y_train)\n",
        "base_accuracy = evaluate(base_model, X_valid, Y_valid)\n",
        "\n",
        "best_random = rf_random.best_estimator_\n",
        "random_accuracy = evaluate(best_random, X_valid, Y_valid)\n",
        "\n",
        "print('Improvement of {:0.2f}%.'.format( 100 * (random_accuracy - base_accuracy) / base_accuracy))\n"
      ]
    },
    {
      "cell_type": "code",
      "execution_count": null,
      "id": "f8b7c7bb",
      "metadata": {
        "id": "f8b7c7bb",
        "outputId": "fada861a-a8de-4831-afb1-d321c18fa7f3"
      },
      "outputs": [
        {
          "name": "stdout",
          "output_type": "stream",
          "text": [
            "Model Performance\n",
            "Average Error: 1565.9500 degrees.\n",
            "Accuracy = 99.75%.\n",
            "Model Performance\n",
            "Average Error: 2103.6103 degrees.\n",
            "Accuracy = 99.64%.\n",
            "Improvement of -0.12%.\n"
          ]
        }
      ],
      "source": [
        "# comparing the normal Random forest model (base_model) with the tuned random forest\n",
        "\n",
        "def evaluate(model, test_features, test_labels):\n",
        "    predictions = model.predict(test_features)\n",
        "    errors = abs(predictions - test_labels)\n",
        "    mape = 100 * np.mean(errors / test_labels)\n",
        "    accuracy = 100 - mape\n",
        "    print('Model Performance')\n",
        "    print('Average Error: {:0.4f} degrees.'.format(np.mean(errors)))\n",
        "    print('Accuracy = {:0.2f}%.'.format(accuracy))\n",
        "    \n",
        "    return accuracy\n",
        "base_model = RandomForestRegressor(n_estimators = 10, random_state = 42)\n",
        "base_model.fit(X_train, Y_train)\n",
        "base_accuracy = evaluate(base_model, X_test, Y_test)\n",
        "\n",
        "best_random = rf_random.best_estimator_\n",
        "random_accuracy = evaluate(best_random, X_test, Y_test)\n",
        "\n",
        "print('Improvement of {:0.2f}%.'.format( 100 * (random_accuracy - base_accuracy) / base_accuracy))\n"
      ]
    },
    {
      "cell_type": "code",
      "execution_count": 15,
      "id": "c42ea757",
      "metadata": {
        "id": "c42ea757",
        "outputId": "7f5b327a-1de9-4eef-ce0a-125259433106",
        "colab": {
          "base_uri": "https://localhost:8080/"
        }
      },
      "outputs": [
        {
          "output_type": "stream",
          "name": "stdout",
          "text": [
            "0.9983764581956106\n"
          ]
        }
      ],
      "source": [
        "#LINEAR REGRESSION\n",
        "\n",
        "from sklearn.linear_model import LinearRegression\n",
        "lm = LinearRegression()\n",
        "# fit\n",
        "lm.fit(X_train, Y_train)\n",
        "# predict \n",
        "y_pred = lm.predict(X_test)\n",
        "# metrics\n",
        "from sklearn.metrics import r2_score\n",
        "print(r2_score(y_true=Y_test, y_pred=y_pred))\n"
      ]
    },
    {
      "cell_type": "code",
      "execution_count": null,
      "id": "25683f54",
      "metadata": {
        "id": "25683f54",
        "outputId": "5f2604b3-834a-4743-b7d4-ac8677e4563f"
      },
      "outputs": [
        {
          "name": "stdout",
          "output_type": "stream",
          "text": [
            "Collecting xgboost\n",
            "  Downloading xgboost-1.7.1-py3-none-win_amd64.whl (89.1 MB)\n",
            "Requirement already satisfied: scipy in c:\\users\\himanshi\\anaconda3\\lib\\site-packages (from xgboost) (1.7.1)\n",
            "Requirement already satisfied: numpy in c:\\users\\himanshi\\anaconda3\\lib\\site-packages (from xgboost) (1.20.3)\n",
            "Installing collected packages: xgboost\n",
            "Successfully installed xgboost-1.7.1\n",
            "Note: you may need to restart the kernel to use updated packages.\n"
          ]
        }
      ],
      "source": [
        "pip install xgboost"
      ]
    },
    {
      "cell_type": "code",
      "execution_count": null,
      "id": "1ac1aafa",
      "metadata": {
        "id": "1ac1aafa"
      },
      "outputs": [],
      "source": [
        "#XGBOOST\n",
        "\n",
        "import numpy as np\n",
        "import pandas as pd\n",
        "\n",
        "from sklearn.preprocessing import StandardScaler\n",
        "from sklearn.model_selection import train_test_split\n",
        "\n",
        "import xgboost as xgb\n",
        "\n",
        "from sklearn.metrics import r2_score\n",
        "dtrain = xgb.DMatrix(X_train, label=Y_train)\n",
        "dval = xgb.DMatrix(X_valid, label=Y_valid)\n",
        "dtest = xgb.DMatrix(X_test, label=Y_test)"
      ]
    },
    {
      "cell_type": "code",
      "execution_count": null,
      "id": "e945cb8d",
      "metadata": {
        "id": "e945cb8d"
      },
      "outputs": [],
      "source": [
        "params = {'learning_rate': 0.001, 'max_depth': 6}\n",
        "\n",
        "model = xgb.train(params, dtrain, evals=[(dval, 'eval')], num_boost_round=1000, early_stopping_rounds=10, verbose_eval=False)"
      ]
    },
    {
      "cell_type": "code",
      "execution_count": null,
      "id": "36868f2b",
      "metadata": {
        "id": "36868f2b"
      },
      "outputs": [],
      "source": [
        "y_true = np.array(Y_test, dtype=np.float)\n",
        "y_pred = np.array(model.predict(dtest), dtype=np.float)"
      ]
    },
    {
      "cell_type": "code",
      "execution_count": null,
      "id": "3e0811b4",
      "metadata": {
        "id": "3e0811b4",
        "outputId": "a8cb1fce-f289-4849-886e-7bb70fdb50e4"
      },
      "outputs": [
        {
          "name": "stdout",
          "output_type": "stream",
          "text": [
            "R^2 Score: 0.7274\n"
          ]
        }
      ],
      "source": [
        "print(\"R^2 Score: {:.4f}\".format(r2_score(y_true, y_pred)))"
      ]
    },
    {
      "cell_type": "code",
      "execution_count": null,
      "id": "ec920dcf",
      "metadata": {
        "id": "ec920dcf"
      },
      "outputs": [],
      "source": []
    }
  ],
  "metadata": {
    "kernelspec": {
      "display_name": "Python 3 (ipykernel)",
      "language": "python",
      "name": "python3"
    },
    "language_info": {
      "codemirror_mode": {
        "name": "ipython",
        "version": 3
      },
      "file_extension": ".py",
      "mimetype": "text/x-python",
      "name": "python",
      "nbconvert_exporter": "python",
      "pygments_lexer": "ipython3",
      "version": "3.9.7"
    },
    "colab": {
      "provenance": []
    }
  },
  "nbformat": 4,
  "nbformat_minor": 5
}